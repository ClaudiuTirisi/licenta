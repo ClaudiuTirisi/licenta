{
 "cells": [
  {
   "cell_type": "code",
   "execution_count": 7,
   "id": "537c00f6-5e69-4131-8dc8-69bbde86286d",
   "metadata": {},
   "outputs": [],
   "source": [
    "import sys\n",
    "sys.path.append(\"metrics\")\n",
    "sys.path.append(\"external\")\n",
    "sys.path.append(\"external/vqgan-taming\")\n",
    "from masked_model import MaskedModel, SequenceModelWrapper\n",
    "from lowres_trainer import LowResTrainer\n",
    "\n",
    "from vqgan import VQModel\n",
    "\n",
    "from masked_transformer import Transformer\n",
    "\n",
    "from muse_maskgit_pytorch import TransformerBlocks\n",
    "\n",
    "import torch.nn as nn\n",
    "\n",
    "import torch\n",
    "\n",
    "import math\n",
    "\n",
    "from masked_attn_mamba import MambaAttn\n",
    "from vqganconfig import vqgan_config\n",
    "\n",
    "from muse_maskgit_pytorch import MaskGit, MaskGitTransformer\n",
    "\n",
    "from custom_datasets import ImageTextNameDataset\n",
    "\n",
    "from torch.utils.data import Dataset, DataLoader, random_split\n",
    "\n",
    "from tqdm import tqdm\n",
    "\n",
    "from mambaCText import MambaCText\n",
    "import torchvision"
   ]
  },
  {
   "cell_type": "code",
   "execution_count": 8,
   "id": "7a73b477-fb50-4749-9293-af3cfad316bb",
   "metadata": {},
   "outputs": [
    {
     "name": "stdout",
     "output_type": "stream",
     "text": [
      "Loaded pretrained LPIPS loss from taming/modules/autoencoder/lpips/vgg.pth\n",
      "Restored from  models/pretrained-vqgan.ckpt\n"
     ]
    }
   ],
   "source": [
    "\n",
    "vae = VQModel(**vqgan_config)\n",
    "vae.init_from_ckpt(path = \"models/pretrained-vqgan.ckpt\")\n",
    "\n",
    "_ = vae.cuda()"
   ]
  },
  {
   "cell_type": "code",
   "execution_count": 9,
   "id": "004bb494-7738-45e4-97e0-f73fde5f1932",
   "metadata": {},
   "outputs": [],
   "source": [
    "transformer = MaskGitTransformer(\n",
    "    actual_model = MambaAttn(\n",
    "      token_size = 1024,\n",
    "      depth = 12,\n",
    "      d_state = 16,\n",
    "    ),\n",
    "    num_tokens = 16384,       # must be same as codebook size above\n",
    "    seq_len = 16*16,            # must be equivalent to fmap_size ** 2 in vae\n",
    "    dim = 1024,                # model dimension\n",
    ")\n",
    "\n",
    "base_maskgit = MaskGit(\n",
    "    transformer = transformer, # transformer\n",
    "    image_size = 256,          # image size\n",
    "    cond_drop_prob = 0.25,     # conditional dropout, for classifier free guidance\n",
    "    self_token_critic = True,\n",
    "    no_mask_token_prob = 0.25,\n",
    ").cuda()\n",
    "\n",
    "base_maskgit.load(\"../results/mamba-attn-results/maskgit.1499999.pt\")"
   ]
  },
  {
   "cell_type": "code",
   "execution_count": 10,
   "id": "08aa1eb4-f801-487c-b8f3-751184de9d9c",
   "metadata": {},
   "outputs": [],
   "source": [
    "valid_ds = ImageTextNameDataset(folder = \"../dataset/cc3m-valid-original\", image_size = 256)\n",
    "batch_size = 8\n",
    "valid_dl = DataLoader(valid_ds, batch_size = batch_size)"
   ]
  },
  {
   "cell_type": "code",
   "execution_count": 11,
   "id": "2c9b608b-1e32-4cca-bd7c-0d4a6e08e90c",
   "metadata": {},
   "outputs": [
    {
     "data": {
      "text/plain": [
       "13443"
      ]
     },
     "execution_count": 11,
     "metadata": {},
     "output_type": "execute_result"
    }
   ],
   "source": [
    "len(valid_ds)"
   ]
  },
  {
   "cell_type": "code",
   "execution_count": 13,
   "id": "638b4832-e0e0-41d9-bede-32d3084da4e6",
   "metadata": {},
   "outputs": [
    {
     "name": "stderr",
     "output_type": "stream",
     "text": [
      "100%|██████████████████████| 1681/1681 [1:10:39<00:00,  2.52s/it]\n"
     ]
    }
   ],
   "source": [
    "with torch.no_grad():\n",
    "    for _, texts, names in tqdm(valid_dl):\n",
    "        batch_size = len(texts)\n",
    "        images = vae.decode_from_ids(base_maskgit.generate(texts = list(texts), fmap_size = 16, cond_scale = 4), batch_size = batch_size, fmap_size = 16)\n",
    "        for i in range(batch_size):\n",
    "            torchvision.utils.save_image(images[i], open(\"../valid-generated-mamba-attn/\" + names[i] + \".jpg\", \"w\"))"
   ]
  },
  {
   "cell_type": "code",
   "execution_count": 6,
   "id": "77007bfd-43e8-4f66-8c26-3007ead61de0",
   "metadata": {},
   "outputs": [],
   "source": [
    "# make a folder of resized 256x256 images"
   ]
  },
  {
   "cell_type": "code",
   "execution_count": 9,
   "id": "d0600b63-3544-449e-9d69-8305bf0cf5e2",
   "metadata": {},
   "outputs": [
    {
     "name": "stderr",
     "output_type": "stream",
     "text": [
      "100%|█████████████████████████████████████████| 841/841 [01:52<00:00,  7.46it/s]\n"
     ]
    }
   ],
   "source": [
    "for resized_images, texts, names in tqdm(valid_dl):\n",
    "    batch_size = len(texts)\n",
    "    for i in range(batch_size):\n",
    "        torchvision.utils.save_image(resized_images[i], open(\"../dataset/cc3m-valid-256x256-images/\" + names[i] + \".jpg\", \"w\"))"
   ]
  },
  {
   "cell_type": "code",
   "execution_count": 10,
   "id": "eaa0fe3b-a47c-4b62-a1da-93272fc15a20",
   "metadata": {},
   "outputs": [],
   "source": [
    "# make a folder of texts"
   ]
  },
  {
   "cell_type": "code",
   "execution_count": 12,
   "id": "e68e17db-7924-4993-a8e3-3e55cb060354",
   "metadata": {},
   "outputs": [
    {
     "name": "stderr",
     "output_type": "stream",
     "text": [
      "100%|█████████████████████████████████████████| 841/841 [02:15<00:00,  6.22it/s]\n"
     ]
    }
   ],
   "source": [
    "for resized_images, texts, names in tqdm(valid_dl):\n",
    "    batch_size = len(texts)\n",
    "    for i in range(batch_size):\n",
    "        path = \"../dataset/cc3m-valid-256x256-texts/\" + names[i] + \".txt\"\n",
    "        with open(path, \"w\") as f:\n",
    "            f.write(texts[i])"
   ]
  },
  {
   "cell_type": "code",
   "execution_count": null,
   "id": "8f5d1a10-708c-4bea-9716-6d8d918778f8",
   "metadata": {},
   "outputs": [],
   "source": []
  }
 ],
 "metadata": {
  "kernelspec": {
   "display_name": "Python 3 (ipykernel)",
   "language": "python",
   "name": "python3"
  },
  "language_info": {
   "codemirror_mode": {
    "name": "ipython",
    "version": 3
   },
   "file_extension": ".py",
   "mimetype": "text/x-python",
   "name": "python",
   "nbconvert_exporter": "python",
   "pygments_lexer": "ipython3",
   "version": "3.8.19"
  }
 },
 "nbformat": 4,
 "nbformat_minor": 5
}
