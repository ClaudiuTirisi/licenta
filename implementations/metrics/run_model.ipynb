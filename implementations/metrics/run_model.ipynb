{
 "cells": [
  {
   "cell_type": "code",
   "execution_count": null,
   "id": "021a6703-fcf6-4258-88b7-3b3355c24356",
   "metadata": {},
   "outputs": [
    {
     "ename": "ModuleNotFoundError",
     "evalue": "No module named 'masked_model'",
     "output_type": "error",
     "traceback": [
      "\u001b[0;31m---------------------------------------------------------------------------\u001b[0m",
      "\u001b[0;31mModuleNotFoundError\u001b[0m                       Traceback (most recent call last)",
      "Cell \u001b[0;32mIn[1], line 4\u001b[0m\n\u001b[1;32m      2\u001b[0m sys\u001b[38;5;241m.\u001b[39mpath\u001b[38;5;241m.\u001b[39mappend(\u001b[38;5;124m\"\u001b[39m\u001b[38;5;124mexternal\u001b[39m\u001b[38;5;124m\"\u001b[39m)\n\u001b[1;32m      3\u001b[0m sys\u001b[38;5;241m.\u001b[39mpath\u001b[38;5;241m.\u001b[39mappend(\u001b[38;5;124m\"\u001b[39m\u001b[38;5;124mexternal/vqgan-taming\u001b[39m\u001b[38;5;124m\"\u001b[39m)\n\u001b[0;32m----> 4\u001b[0m \u001b[38;5;28;01mfrom\u001b[39;00m \u001b[38;5;21;01mmasked_model\u001b[39;00m \u001b[38;5;28;01mimport\u001b[39;00m MaskedModel, SequenceModelWrapper\n\u001b[1;32m      5\u001b[0m \u001b[38;5;28;01mfrom\u001b[39;00m \u001b[38;5;21;01mlowres_trainer\u001b[39;00m \u001b[38;5;28;01mimport\u001b[39;00m LowResTrainer\n\u001b[1;32m      7\u001b[0m \u001b[38;5;28;01mfrom\u001b[39;00m \u001b[38;5;21;01mvqgan\u001b[39;00m \u001b[38;5;28;01mimport\u001b[39;00m VQModel\n",
      "\u001b[0;31mModuleNotFoundError\u001b[0m: No module named 'masked_model'"
     ]
    }
   ],
   "source": [
    "import sys\n",
    "sys.path.append(\"..\")\n",
    "sys.path.append(\"external\")\n",
    "sys.path.append(\"external/vqgan-taming\")\n",
    "from masked_model import MaskedModel, SequenceModelWrapper\n",
    "from lowres_trainer import LowResTrainer\n",
    "\n",
    "from vqgan import VQModel\n",
    "\n",
    "from masked_transformer import Transformer\n",
    "\n",
    "from muse_maskgit_pytorch import TransformerBlocks\n",
    "\n",
    "import torch.nn as nn\n",
    "\n",
    "import torch\n",
    "\n",
    "import math\n",
    "\n",
    "from vqganconfig import vqgan_config\n",
    "\n",
    "from mambaCText import MambaCText\n",
    "\n",
    "vae = VQModel(**vqgan_config)\n",
    "vae.init_from_ckpt(path = \"models/pretrained-vqgan.ckpt\")\n",
    "\n",
    "vae.cuda()\n",
    "\n",
    "from muse_maskgit_pytorch import MaskGit, MaskGitTransformer\n",
    "\n",
    "transformer = MaskGitTransformer(\n",
    "    actual_model = MambaCText(\n",
    "      token_size = 1024,\n",
    "      depth = 12,\n",
    "      d_state = 16,\n",
    "    ),\n",
    "    num_tokens = 16384,       # must be same as codebook size above\n",
    "    seq_len = 16*16,            # must be equivalent to fmap_size ** 2 in vae\n",
    "    dim = 1024,                # model dimension\n",
    ")\n",
    "\n",
    "base_maskgit = MaskGit(\n",
    "    transformer = transformer, # transformer\n",
    "    image_size = 256,          # image size\n",
    "    cond_drop_prob = 0.25,     # conditional dropout, for classifier free guidance\n",
    "    self_token_critic = True,\n",
    "    no_mask_token_prob = 0.25,\n",
    ").cuda()\n"
   ]
  },
  {
   "cell_type": "code",
   "execution_count": null,
   "id": "078eae52-def7-4df4-a554-fbdaaea9ebca",
   "metadata": {},
   "outputs": [],
   "source": []
  }
 ],
 "metadata": {
  "kernelspec": {
   "display_name": "Python 3 (ipykernel)",
   "language": "python",
   "name": "python3"
  },
  "language_info": {
   "codemirror_mode": {
    "name": "ipython",
    "version": 3
   },
   "file_extension": ".py",
   "mimetype": "text/x-python",
   "name": "python",
   "nbconvert_exporter": "python",
   "pygments_lexer": "ipython3",
   "version": "3.8.19"
  }
 },
 "nbformat": 4,
 "nbformat_minor": 5
}
