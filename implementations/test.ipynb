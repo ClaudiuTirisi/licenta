{
 "cells": [
  {
   "cell_type": "code",
   "execution_count": 1,
   "metadata": {},
   "outputs": [
    {
     "name": "stderr",
     "output_type": "stream",
     "text": [
      "/home/ubuntu/miniconda3/envs/muse/lib/python3.8/site-packages/tqdm/auto.py:21: TqdmWarning: IProgress not found. Please update jupyter and ipywidgets. See https://ipywidgets.readthedocs.io/en/stable/user_install.html\n",
      "  from .autonotebook import tqdm as notebook_tqdm\n",
      "/home/ubuntu/miniconda3/envs/muse/lib/python3.8/site-packages/torchvision/models/_utils.py:208: UserWarning: The parameter 'pretrained' is deprecated since 0.13 and may be removed in the future, please use 'weights' instead.\n",
      "  warnings.warn(\n",
      "/home/ubuntu/miniconda3/envs/muse/lib/python3.8/site-packages/torchvision/models/_utils.py:223: UserWarning: Arguments other than a weight enum or `None` for 'weights' are deprecated since 0.13 and may be removed in the future. The current behavior is equivalent to passing `weights=VGG16_Weights.IMAGENET1K_V1`. You can also use `weights=VGG16_Weights.DEFAULT` to get the most up-to-date weights.\n",
      "  warnings.warn(msg)\n"
     ]
    },
    {
     "name": "stdout",
     "output_type": "stream",
     "text": [
      "Loaded pretrained LPIPS loss from taming/modules/autoencoder/lpips/vgg.pth\n",
      "Restored from  models/pretrained-vqgan.ckpt\n"
     ]
    }
   ],
   "source": [
    "import sys\n",
    "sys.path.append(\"external\")\n",
    "sys.path.append(\"external/vqgan-taming\")\n",
    "from masked_model import MaskedModel, SequenceModelWrapper\n",
    "from lowres_trainer import LowResTrainer\n",
    "\n",
    "from vqgan import VQModel\n",
    "\n",
    "from masked_transformer import Transformer\n",
    "\n",
    "import torch\n",
    "import math\n",
    "\n",
    "from muse_maskgit_pytorch import TransformerBlocks\n",
    "\n",
    "import torch.nn as nn\n",
    "\n",
    "import torch\n",
    "\n",
    "import math\n",
    "\n",
    "from vqganconfig import vqgan_config\n",
    "\n",
    "from masked_attn_mamba import MambaAttn\n",
    "import sys\n",
    "sys.path.append(\"external\")\n",
    "sys.path.append(\"external/vqgan-taming\")\n",
    "from masked_model import MaskedModel, SequenceModelWrapper\n",
    "from lowres_trainer import LowResTrainer\n",
    "\n",
    "from vqgan import VQModel\n",
    "\n",
    "from masked_transformer import Transformer\n",
    "\n",
    "import torch\n",
    "import math\n",
    "\n",
    "import torch.nn as nn\n",
    "\n",
    "import torch\n",
    "\n",
    "import math\n",
    "\n",
    "from vqganconfig import vqgan_config\n",
    "\n",
    "def cosine_schedule(t):\n",
    "    return torch.cos(t * math.pi * 0.5)\n",
    "\n",
    "vae = VQModel(**vqgan_config)\n",
    "vae.init_from_ckpt(path = \"models/pretrained-vqgan.ckpt\")\n",
    "\n",
    "vae.cuda()\n",
    "\n",
    "from muse_maskgit_pytorch import MaskGit, MaskGitTransformer\n",
    "\n",
    "transformer = MaskGitTransformer(\n",
    "    actual_model = MambaAttn(\n",
    "      token_size = 2048,\n",
    "      depth = 18,\n",
    "      d_state = 16,\n",
    "    ),\n",
    "    num_tokens = 16384,       # must be same as codebook size above\n",
    "    seq_len = 16*16,            # must be equivalent to fmap_size ** 2 in vae\n",
    "    dim = 2048,                # model dimension\n",
    ")\n",
    "\n",
    "base_maskgit = MaskGit(\n",
    "    transformer = transformer, # transformer\n",
    "    image_size = 256,          # image size\n",
    "    cond_drop_prob = 0.25,     # conditional dropout, for classifier free guidance\n",
    "    self_token_critic = True,\n",
    "    no_mask_token_prob = 0.25,\n",
    ").cuda()"
   ]
  },
  {
   "cell_type": "code",
   "execution_count": 2,
   "metadata": {},
   "outputs": [
    {
     "name": "stderr",
     "output_type": "stream",
     "text": [
      "/home/ubuntu/miniconda3/envs/muse/lib/python3.8/site-packages/torchvision/models/_utils.py:208: UserWarning: The parameter 'pretrained' is deprecated since 0.13 and may be removed in the future, please use 'weights' instead.\n",
      "  warnings.warn(\n",
      "/home/ubuntu/miniconda3/envs/muse/lib/python3.8/site-packages/torchvision/models/_utils.py:223: UserWarning: Arguments other than a weight enum or `None` for 'weights' are deprecated since 0.13 and may be removed in the future. The current behavior is equivalent to passing `weights=VGG16_Weights.IMAGENET1K_V1`. You can also use `weights=VGG16_Weights.DEFAULT` to get the most up-to-date weights.\n",
      "  warnings.warn(msg)\n"
     ]
    },
    {
     "name": "stdout",
     "output_type": "stream",
     "text": [
      "Loaded pretrained LPIPS loss from taming/modules/autoencoder/lpips/vgg.pth\n",
      "Restored from  models/pretrained-vqgan.ckpt\n"
     ]
    }
   ],
   "source": [
    "vae = VQModel(**vqgan_config)\n",
    "vae.init_from_ckpt(path = \"models/pretrained-vqgan.ckpt\")\n"
   ]
  },
  {
   "cell_type": "code",
   "execution_count": 3,
   "metadata": {},
   "outputs": [],
   "source": [
    "def count_parameters(model):\n",
    "    return sum(p.numel() for p in model.parameters() if p.requires_grad)"
   ]
  },
  {
   "cell_type": "code",
   "execution_count": 4,
   "metadata": {},
   "outputs": [
    {
     "data": {
      "text/plain": [
       "76737220"
      ]
     },
     "execution_count": 4,
     "metadata": {},
     "output_type": "execute_result"
    }
   ],
   "source": [
    "count_parameters(vae)"
   ]
  },
  {
   "cell_type": "code",
   "execution_count": 11,
   "metadata": {},
   "outputs": [],
   "source": [
    "input = torch.rand((10, 3, 32, 32))"
   ]
  },
  {
   "cell_type": "code",
   "execution_count": 14,
   "metadata": {},
   "outputs": [],
   "source": [
    "full_output = vae.encode(input)[2]"
   ]
  },
  {
   "cell_type": "code",
   "execution_count": 16,
   "metadata": {},
   "outputs": [
    {
     "name": "stderr",
     "output_type": "stream",
     "text": [
      "[W NNPACK.cpp:53] Could not initialize NNPACK! Reason: Unsupported hardware.\n"
     ]
    },
    {
     "name": "stdout",
     "output_type": "stream",
     "text": [
      "tensor([True, True, True, True])\n",
      "tensor([True, True, True, True])\n",
      "tensor([True, True, True, True])\n",
      "tensor([True, True, True, True])\n",
      "tensor([True, True, True, True])\n",
      "tensor([True, True, True, True])\n",
      "tensor([True, True, True, True])\n",
      "tensor([True, True, True, True])\n",
      "tensor([True, True, True, True])\n",
      "tensor([True, True, True, True])\n"
     ]
    }
   ],
   "source": [
    "for i in range(0, 10):\n",
    "  partial = vae.encode(input[i].unsqueeze(0))[2]\n",
    "  print(full_output[i] == partial[0])"
   ]
  }
 ],
 "metadata": {
  "kernelspec": {
   "display_name": "muse",
   "language": "python",
   "name": "python3"
  },
  "language_info": {
   "codemirror_mode": {
    "name": "ipython",
    "version": 3
   },
   "file_extension": ".py",
   "mimetype": "text/x-python",
   "name": "python",
   "nbconvert_exporter": "python",
   "pygments_lexer": "ipython3",
   "version": "3.8.19"
  }
 },
 "nbformat": 4,
 "nbformat_minor": 2
}
