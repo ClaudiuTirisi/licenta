{
 "cells": [
  {
   "cell_type": "code",
   "execution_count": 1,
   "id": "12211d67-532e-4590-8280-6e074483b577",
   "metadata": {},
   "outputs": [
    {
     "name": "stderr",
     "output_type": "stream",
     "text": [
      "/home/ubuntu/miniconda3/envs/muse-mamba/lib/python3.8/site-packages/tqdm/auto.py:21: TqdmWarning: IProgress not found. Please update jupyter and ipywidgets. See https://ipywidgets.readthedocs.io/en/stable/user_install.html\n",
      "  from .autonotebook import tqdm as notebook_tqdm\n"
     ]
    }
   ],
   "source": [
    "from custom_datasets import ImageTokensTextDataset\n",
    "from torch.utils.data import DataLoader\n",
    "import torch\n",
    "import torch.nn as nn\n",
    "from tqdm import trange, tqdm"
   ]
  },
  {
   "cell_type": "code",
   "execution_count": 2,
   "id": "55d7e74a-7255-4871-b793-d119cb4bfba5",
   "metadata": {},
   "outputs": [],
   "source": [
    "valid_ds = ImageTokensTextDataset(folder = \"../dataset/cc3m-train-256x256\", images_only = True)\n",
    "batch_size = 128\n",
    "valid_dl = DataLoader(valid_ds, batch_size = batch_size)"
   ]
  },
  {
   "cell_type": "code",
   "execution_count": 3,
   "id": "7c11754f-c7e7-47db-b848-f44e692399b2",
   "metadata": {},
   "outputs": [],
   "source": [
    "fmap_size = 16\n",
    "token_count = 16384"
   ]
  },
  {
   "cell_type": "code",
   "execution_count": 4,
   "id": "ec7f18c4-327d-4fc4-a12c-fe38fc17bd14",
   "metadata": {},
   "outputs": [],
   "source": [
    "frequency_map = torch.zeros((fmap_size*fmap_size, token_count))"
   ]
  },
  {
   "cell_type": "code",
   "execution_count": null,
   "id": "0e8bce04-8f62-482a-b0e7-52e7d2ef51f2",
   "metadata": {},
   "outputs": [
    {
     "name": "stderr",
     "output_type": "stream",
     "text": [
      "  3%|▊                     | 793/22703 [08:53<4:38:49,  1.31it/s]"
     ]
    }
   ],
   "source": [
    "for image_tokens in tqdm(valid_dl):\n",
    "    frequency_map += torch.sum(\n",
    "        torch.nn.functional.one_hot(\n",
    "            image_tokens,\n",
    "            num_classes = token_count), \n",
    "        dim = 0)"
   ]
  },
  {
   "cell_type": "code",
   "execution_count": null,
   "id": "835635bb-0c18-485e-a86f-6968355476c4",
   "metadata": {},
   "outputs": [],
   "source": []
  }
 ],
 "metadata": {
  "kernelspec": {
   "display_name": "Python 3 (ipykernel)",
   "language": "python",
   "name": "python3"
  },
  "language_info": {
   "codemirror_mode": {
    "name": "ipython",
    "version": 3
   },
   "file_extension": ".py",
   "mimetype": "text/x-python",
   "name": "python",
   "nbconvert_exporter": "python",
   "pygments_lexer": "ipython3",
   "version": "3.8.19"
  }
 },
 "nbformat": 4,
 "nbformat_minor": 5
}
