{
 "cells": [
  {
   "cell_type": "code",
   "execution_count": 4,
   "metadata": {},
   "outputs": [],
   "source": [
    "import torch.nn as nn\n",
    "\n",
    "import torch\n",
    "\n",
    "import math\n",
    "\n",
    "from mamba_ssm import Mamba"
   ]
  },
  {
   "cell_type": "code",
   "execution_count": 73,
   "metadata": {},
   "outputs": [],
   "source": [
    "from muse_maskgit_pytorch import LayerNorm"
   ]
  },
  {
   "cell_type": "code",
   "execution_count": 30,
   "metadata": {},
   "outputs": [],
   "source": [
    "from mamba_ssm.ops.triton.layernorm import layer_norm_fn\n",
    "from einops import repeat"
   ]
  },
  {
   "cell_type": "code",
   "execution_count": 2,
   "metadata": {},
   "outputs": [
    {
     "name": "stderr",
     "output_type": "stream",
     "text": [
      "/home/ubuntu/anaconda3/envs/muse/lib/python3.9/site-packages/tqdm/auto.py:21: TqdmWarning: IProgress not found. Please update jupyter and ipywidgets. See https://ipywidgets.readthedocs.io/en/stable/user_install.html\n",
      "  from .autonotebook import tqdm as notebook_tqdm\n"
     ]
    }
   ],
   "source": [
    "import sys\n",
    "sys.path.append(\"..\")\n",
    "\n",
    "from masked_model import MaskedModel, SequenceModelWrapper"
   ]
  },
  {
   "cell_type": "code",
   "execution_count": 91,
   "metadata": {},
   "outputs": [],
   "source": [
    "class MambaIT(nn.Module):\n",
    "  def __init__(\n",
    "      self,\n",
    "      token_size,\n",
    "      depth,\n",
    "      d_state = 16,\n",
    "      d_conv = 4,\n",
    "      expand = 2,\n",
    "  ):\n",
    "    super().__init__()\n",
    "    self.token_size = token_size\n",
    "    self.mamba_layers = nn.ModuleList([Mamba(d_model = token_size, d_state = d_state, d_conv = d_conv, expand = expand) for _ in range(depth)])\n",
    "    self.norm = LayerNorm(token_size)\n",
    "\n",
    "  def forward(\n",
    "      self,\n",
    "      x,\n",
    "      context,\n",
    "      context_mask\n",
    "  ):\n",
    "\n",
    "    seq_len = x.shape[1]\n",
    "\n",
    "    context_mask = repeat(context_mask, 'b t -> b t s', s = 512)\n",
    "    context = torch.where(context_mask, context, torch.zeros_like(context))\n",
    "\n",
    "    x = torch.cat((context, x), dim = -2)\n",
    "\n",
    "    for mamba_layer in self.mamba_layers:\n",
    "      x = mamba_layer(x)\n",
    "      x = self.norm(x)\n",
    "\n",
    "    return x[:, :seq_len, :]"
   ]
  },
  {
   "cell_type": "code",
   "execution_count": 97,
   "metadata": {},
   "outputs": [],
   "source": [
    "def cosine_schedule(t):\n",
    "    return torch.cos(t * math.pi * 0.5)"
   ]
  },
  {
   "cell_type": "code",
   "execution_count": 98,
   "metadata": {},
   "outputs": [],
   "source": [
    "model = MaskedModel(\n",
    "  SequenceModelWrapper(\n",
    "    MambaIT(\n",
    "      token_size = 512,\n",
    "      depth = 8,\n",
    "    ).cuda(),\n",
    "    8192,\n",
    "    64,\n",
    "    False\n",
    "  ).cuda(),\n",
    "  cosine_schedule,\n",
    "  0.1,\n",
    ").cuda()"
   ]
  },
  {
   "cell_type": "code",
   "execution_count": 99,
   "metadata": {},
   "outputs": [
    {
     "data": {
      "text/plain": [
       "tensor(11.9251, device='cuda:0', grad_fn=<AddBackward0>)"
      ]
     },
     "execution_count": 99,
     "metadata": {},
     "output_type": "execute_result"
    }
   ],
   "source": [
    "model(image_ids = torch.rand(1, 10).long().cuda(), text_embeds = torch.rand(1, 5, 768).float().cuda())"
   ]
  },
  {
   "cell_type": "code",
   "execution_count": null,
   "metadata": {},
   "outputs": [],
   "source": []
  }
 ],
 "metadata": {
  "kernelspec": {
   "display_name": "muse",
   "language": "python",
   "name": "python3"
  },
  "language_info": {
   "codemirror_mode": {
    "name": "ipython",
    "version": 3
   },
   "file_extension": ".py",
   "mimetype": "text/x-python",
   "name": "python",
   "nbconvert_exporter": "python",
   "pygments_lexer": "ipython3",
   "version": "3.9.19"
  }
 },
 "nbformat": 4,
 "nbformat_minor": 2
}
