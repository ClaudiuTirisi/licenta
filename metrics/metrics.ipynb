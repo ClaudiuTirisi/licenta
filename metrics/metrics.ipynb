{
 "cells": [
  {
   "cell_type": "code",
   "execution_count": 76,
   "metadata": {},
   "outputs": [],
   "source": [
    "import sys\n",
    "from pathlib import Path\n",
    "from shutil import rmtree\n",
    "\n",
    "import json\n",
    "from tqdm import tqdm, trange\n",
    "\n",
    "import torch"
   ]
  },
  {
   "cell_type": "code",
   "execution_count": 73,
   "metadata": {},
   "outputs": [],
   "source": [
    "sys.path.append(\"..\")\n",
    "sys.path.append(\"../muse_rewrite\")"
   ]
  },
  {
   "cell_type": "code",
   "execution_count": 74,
   "metadata": {},
   "outputs": [],
   "source": [
    "from vae import VQGanVAE\n",
    "from masked_transformer import MaskGitTransformer, MaskGit, TokenCritic\n",
    "import matplotlib.pyplot as plt\n",
    "import torchvision.transforms as T\n",
    "\n",
    "from torch.utils.data import Dataset, DataLoader, random_split"
   ]
  },
  {
   "cell_type": "code",
   "execution_count": 75,
   "metadata": {},
   "outputs": [],
   "source": [
    "vae = VQGanVAE(\n",
    "    dim = 128,\n",
    "    codebook_size = 8192\n",
    ")\n",
    "\n",
    "# this checkpoint was trained with image size upto 256\n",
    "vae.load(\"../muse_rewrite/results-backup/vae.300000.ema.pt\", is_ema=True)"
   ]
  },
  {
   "cell_type": "code",
   "execution_count": 13,
   "metadata": {},
   "outputs": [
    {
     "name": "stdout",
     "output_type": "stream",
     "text": [
      "Non-A100 GPU detected, using math or mem efficient attention if input tensor is on cuda\n"
     ]
    }
   ],
   "source": [
    "transformer = MaskGitTransformer(\n",
    "    num_tokens = 8192,       # must be same as codebook size above\n",
    "    seq_len = 16*16,            # must be equivalent to fmap_size ** 2 in vae\n",
    "    dim = 2048,                # model dimension\n",
    "    depth = 24,                # depth\n",
    "    dim_head = 64,            # attention head dimension\n",
    "    heads = 8,                # attention heads,\n",
    "    ff_mult = 2,              # feedforward expansion factor\n",
    ")\n",
    "\n",
    "base_maskgit = MaskGit(\n",
    "    vae = vae,                 # vqgan vae\n",
    "    transformer = transformer, # transformer\n",
    "    image_size = 256,          # image size\n",
    "    cond_drop_prob = 0.25,     # conditional dropout, for classifier free guidance\n",
    "    self_token_critic = True,\n",
    "    no_mask_token_prob = 0.25,\n",
    ").cuda()"
   ]
  },
  {
   "cell_type": "code",
   "execution_count": 15,
   "metadata": {},
   "outputs": [],
   "source": [
    "base_maskgit.load(\"../muse_rewrite/results-maskgit/maskgit.299999.pt\")"
   ]
  },
  {
   "cell_type": "code",
   "execution_count": 68,
   "metadata": {},
   "outputs": [],
   "source": [
    "def yes_or_no(question):\n",
    "  answer = input(f'{question} (y/n)')\n",
    "  return answer.lower() in ['yes', 'y']"
   ]
  },
  {
   "cell_type": "code",
   "execution_count": 77,
   "metadata": {},
   "outputs": [],
   "source": [
    "class ImageTextDataset(Dataset):\n",
    "  def __init__(\n",
    "      self,\n",
    "      folder,\n",
    "      token_folder,\n",
    "      annotations_path,\n",
    "      image_size,\n",
    "      tokenizer = None,\n",
    "      exts = ['jpg', 'jpeg', 'png']\n",
    "  ):\n",
    "    super().__init__()\n",
    "    self.image_size = image_size\n",
    "    self.tokenizer = tokenizer\n",
    "    self.token_folder = Path(token_folder)\n",
    "\n",
    "    if yes_or_no(\"Do you want to clear token folder and recompute tokens? (yes/no)\"):\n",
    "      rmtree(str(self.token_folder))\n",
    "      self.token_folder.mkdir(parents = True, exist_ok = True)\n",
    "      self.should_compute_tokens = True\n",
    "    else:\n",
    "      self.should_compute_tokens = False\n",
    "      \n",
    "    \n",
    "    self.transform = T.Compose([\n",
    "      T.Lambda(lambda img: img.convert('RGB') if img.mode != 'RGB' else img),\n",
    "      T.Resize((image_size, image_size)),\n",
    "      # image might not fit the text after flip and crop\n",
    "      # T.RandomHorizontalFlip(),\n",
    "      # T.CenterCrop(image_size),\n",
    "      T.ToTensor()\n",
    "    ])\n",
    "\n",
    "    image_paths = [p for ext in exts for p in Path(f'{folder}').glob(f'**/*.{ext}')]\n",
    "\n",
    "    image_annotations = json.load(open(annotations_path))[\"annotations\"]\n",
    "\n",
    "    image_annotations_keyed = dict()\n",
    "    for annotation in image_annotations:\n",
    "      image_id = annotation[\"image_id\"]\n",
    "      caption = annotation[\"caption\"]\n",
    "      if image_id not in image_annotations_keyed:\n",
    "        image_annotations_keyed[image_id] = []\n",
    "      image_annotations_keyed[image_id].append(caption)\n",
    "\n",
    "    self.data = []\n",
    "    for path in tqdm(image_paths):\n",
    "      image_id = path.name.split(\".\")[0]\n",
    "      encoded_path = f'{token_folder}/{image_id}.pt'\n",
    "      for text in image_annotations_keyed[int(image_id)]:\n",
    "        image_data = {\n",
    "          \"path\": path,\n",
    "          \"encoded_path\": encoded_path,\n",
    "          \"texts\": text,\n",
    "        }\n",
    "        self.data.append(image_data)\n",
    "\n",
    "      if self.should_compute_tokens:\n",
    "          with torch.no_grad():\n",
    "              _, indices, _ = self.tokenizer.encode(self.transform(Image.open(path)).unsqueeze(0).cuda())\n",
    "              torch.save(indices[0], encoded_path)\n",
    "\n",
    "    print(f'Found {len(self.data)} training samples at {folder}')\n",
    "\n",
    "  def __len__(self):\n",
    "    return len(self.data)\n",
    "\n",
    "  def __getitem__(self, index):\n",
    "    path = self.data[index][\"path\"]\n",
    "    texts = self.data[index][\"texts\"]\n",
    "    encoded_img = torch.load(self.data[index][\"encoded_path\"])\n",
    "    img = Image.open(path)\n",
    "    return encoded_img, self.transform(img), texts"
   ]
  },
  {
   "cell_type": "code",
   "execution_count": 78,
   "metadata": {},
   "outputs": [],
   "source": [
    "validation_folder = \"../COCO-Captions/val2017\"\n",
    "token_folder = \"../\""
   ]
  },
  {
   "cell_type": "code",
   "execution_count": 80,
   "metadata": {},
   "outputs": [
    {
     "ename": "TypeError",
     "evalue": "__init__() missing 2 required positional arguments: 'annotations_path' and 'image_size'",
     "output_type": "error",
     "traceback": [
      "\u001b[0;31m---------------------------------------------------------------------------\u001b[0m",
      "\u001b[0;31mTypeError\u001b[0m                                 Traceback (most recent call last)",
      "Cell \u001b[0;32mIn[80], line 1\u001b[0m\n\u001b[0;32m----> 1\u001b[0m ds \u001b[38;5;241m=\u001b[39m \u001b[43mImageTextDataset\u001b[49m\u001b[43m(\u001b[49m\u001b[43mvalidation_folder\u001b[49m\u001b[43m,\u001b[49m\u001b[43m \u001b[49m\u001b[38;5;241;43m256\u001b[39;49m\u001b[43m)\u001b[49m\n",
      "\u001b[0;31mTypeError\u001b[0m: __init__() missing 2 required positional arguments: 'annotations_path' and 'image_size'"
     ]
    }
   ],
   "source": [
    "ds = ImageTextDataset(validation_folder, 256)"
   ]
  },
  {
   "cell_type": "code",
   "execution_count": null,
   "metadata": {},
   "outputs": [],
   "source": []
  }
 ],
 "metadata": {
  "kernelspec": {
   "display_name": "muse",
   "language": "python",
   "name": "python3"
  },
  "language_info": {
   "codemirror_mode": {
    "name": "ipython",
    "version": 3
   },
   "file_extension": ".py",
   "mimetype": "text/x-python",
   "name": "python",
   "nbconvert_exporter": "python",
   "pygments_lexer": "ipython3",
   "version": "3.8.18"
  }
 },
 "nbformat": 4,
 "nbformat_minor": 2
}
