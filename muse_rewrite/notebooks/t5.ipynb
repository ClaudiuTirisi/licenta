{
 "cells": [
  {
   "cell_type": "code",
   "execution_count": 1,
   "metadata": {},
   "outputs": [
    {
     "name": "stderr",
     "output_type": "stream",
     "text": [
      "/home/ubuntu/anaconda3/envs/muse/lib/python3.8/site-packages/transformers/utils/generic.py:311: UserWarning: torch.utils._pytree._register_pytree_node is deprecated. Please use torch.utils._pytree.register_pytree_node instead.\n",
      "  torch.utils._pytree._register_pytree_node(\n",
      "/home/ubuntu/anaconda3/envs/muse/lib/python3.8/site-packages/transformers/utils/generic.py:311: UserWarning: torch.utils._pytree._register_pytree_node is deprecated. Please use torch.utils._pytree.register_pytree_node instead.\n",
      "  torch.utils._pytree._register_pytree_node(\n"
     ]
    }
   ],
   "source": [
    "import logging\n",
    "import torch\n",
    "import transformers\n",
    "from transformers import T5Tokenizer, T5EncoderModel, T5Config"
   ]
  },
  {
   "cell_type": "code",
   "execution_count": 2,
   "metadata": {},
   "outputs": [],
   "source": [
    "MAX_LENGTH = 256\n",
    "DEFAULT_T5_NAME = 'google/t5-v1_1-base'\n",
    "T5_CONFIGS = {}"
   ]
  },
  {
   "cell_type": "code",
   "execution_count": 3,
   "metadata": {},
   "outputs": [],
   "source": [
    "def get_tokenizer(name):\n",
    "  tokenizer = T5Tokenizer.from_pretrained(name)\n",
    "  return tokenizer"
   ]
  },
  {
   "cell_type": "code",
   "execution_count": 4,
   "metadata": {},
   "outputs": [],
   "source": [
    "def get_model(name):\n",
    "  model = T5EncoderModel.from_pretrained(name)\n",
    "  return model"
   ]
  },
  {
   "cell_type": "code",
   "execution_count": 5,
   "metadata": {},
   "outputs": [],
   "source": [
    "def get_model_and_tokenizer(name):\n",
    "  global T5_CONFIGS\n",
    "\n",
    "  if name not in T5_CONFIGS:\n",
    "    T5_CONFIGS[name] = dict()\n",
    "  if \"model\" not in T5_CONFIGS[name]:\n",
    "    T5_CONFIGS[name][\"model\"] = get_model(name)\n",
    "  if \"tokenizer\" not in T5_CONFIGS[name]:\n",
    "    T5_CONFIGS[name][\"tokenizer\"] = get_tokenizer(name)\n",
    "  \n",
    "  return T5_CONFIGS[name][\"model\"], T5_CONFIGS[name][\"tokenizer\"]"
   ]
  },
  {
   "cell_type": "code",
   "execution_count": 6,
   "metadata": {},
   "outputs": [],
   "source": [
    "def get_encoded_dim(name):\n",
    "  if name not in T5_CONFIGS:\n",
    "    config = T5Config.from_pretrained(name)\n",
    "    T5_CONFIGS[\"name\"] = dict(config = config)\n",
    "  elif \"config\" in T5_CONFIGS[name]:\n",
    "    config = T5_CONFIGS[name][\"config\"]\n",
    "  elif \"model\" in T5_CONFIGS[name]:\n",
    "    config = T5_CONFIGS[name][\"model\"].config\n",
    "  else:\n",
    "    assert False\n",
    "  return config.d_model"
   ]
  },
  {
   "cell_type": "code",
   "execution_count": 7,
   "metadata": {},
   "outputs": [
    {
     "data": {
      "text/plain": [
       "768"
      ]
     },
     "execution_count": 7,
     "metadata": {},
     "output_type": "execute_result"
    }
   ],
   "source": [
    "get_encoded_dim(DEFAULT_T5_NAME)"
   ]
  },
  {
   "cell_type": "code",
   "execution_count": 8,
   "metadata": {},
   "outputs": [],
   "source": [
    "texts = [\"today tomorrow friday\"]"
   ]
  },
  {
   "cell_type": "code",
   "execution_count": 9,
   "metadata": {},
   "outputs": [],
   "source": [
    "def t5_encode_text(\n",
    "    texts,\n",
    "    name = DEFAULT_T5_NAME,\n",
    "    output_device = None,\n",
    "):\n",
    "  if isinstance(texts, str):\n",
    "    texts = [texts]\n",
    "\n",
    "  t5, tokenizer = get_model_and_tokenizer(DEFAULT_T5_NAME)\n",
    "\n",
    "  if torch.cuda.is_available():\n",
    "    t5 = t5.cuda()\n",
    "\n",
    "  device = next(t5.parameters()).device\n",
    "\n",
    "  encoded = tokenizer.batch_encode_plus(\n",
    "    texts,\n",
    "    return_tensors = \"pt\",\n",
    "    padding = \"longest\",\n",
    "    max_length = MAX_LENGTH,\n",
    "    truncation = True\n",
    "  )\n",
    "\n",
    "  input_ids = encoded.input_ids.to(device)\n",
    "  attn_mask = encoded.attention_mask.to(device)\n",
    "\n",
    "  t5.eval()\n",
    "\n",
    "  with torch.no_grad():\n",
    "    output = t5(input_ids = input_ids, attention_mask = attn_mask)\n",
    "    encoded_text = output.last_hidden_state.detach()\n",
    "\n",
    "  attn_mask = attn_mask.bool()\n",
    "  encoded_text = encoded_text.masked_fill(~attn_mask[..., None], 0.)\n",
    "\n",
    "  if output_device is None:\n",
    "    return encoded_text\n",
    "  \n",
    "  encoded_text.to(output_device)\n",
    "  return encoded_text"
   ]
  },
  {
   "cell_type": "code",
   "execution_count": null,
   "metadata": {},
   "outputs": [],
   "source": []
  }
 ],
 "metadata": {
  "kernelspec": {
   "display_name": "muse",
   "language": "python",
   "name": "python3"
  },
  "language_info": {
   "codemirror_mode": {
    "name": "ipython",
    "version": 3
   },
   "file_extension": ".py",
   "mimetype": "text/x-python",
   "name": "python",
   "nbconvert_exporter": "python",
   "pygments_lexer": "ipython3",
   "version": "3.8.18"
  }
 },
 "nbformat": 4,
 "nbformat_minor": 2
}
